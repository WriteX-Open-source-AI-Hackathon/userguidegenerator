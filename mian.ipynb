{
 "cells": [
  {
   "cell_type": "code",
   "execution_count": 173,
   "metadata": {},
   "outputs": [
    {
     "name": "stdout",
     "output_type": "stream",
     "text": [
      "Requirement already satisfied: simple_image_download in c:\\users\\ortho\\anaconda3\\lib\\site-packages (0.5)\n",
      "Requirement already satisfied: progressbar in c:\\users\\ortho\\anaconda3\\lib\\site-packages (from simple_image_download) (2.5)\n",
      "Requirement already satisfied: requests in c:\\users\\ortho\\anaconda3\\lib\\site-packages (from simple_image_download) (2.28.1)\n",
      "Requirement already satisfied: python-magic-bin==0.4.14 in c:\\users\\ortho\\anaconda3\\lib\\site-packages (from simple_image_download) (0.4.14)\n",
      "Requirement already satisfied: idna<4,>=2.5 in c:\\users\\ortho\\anaconda3\\lib\\site-packages (from requests->simple_image_download) (3.4)\n",
      "Requirement already satisfied: certifi>=2017.4.17 in c:\\users\\ortho\\anaconda3\\lib\\site-packages (from requests->simple_image_download) (2022.12.7)\n",
      "Requirement already satisfied: urllib3<1.27,>=1.21.1 in c:\\users\\ortho\\anaconda3\\lib\\site-packages (from requests->simple_image_download) (1.26.14)\n",
      "Requirement already satisfied: charset-normalizer<3,>=2 in c:\\users\\ortho\\anaconda3\\lib\\site-packages (from requests->simple_image_download) (2.0.4)\n"
     ]
    }
   ],
   "source": [
    "#! pip install -q langchain-openai langchain langchain-text-splitters lxml octoai-sdk langchain-community faiss-cpu tiktoken transformer\n",
    "\n",
    "#! pip install simple_image_download"
   ]
  },
  {
   "cell_type": "code",
   "execution_count": 174,
   "metadata": {},
   "outputs": [],
   "source": [
    "from dotenv import load_dotenv\n",
    "import os\n",
    "\n",
    "load_dotenv()\n",
    "OCTOAI_API_TOKEN = os.environ[\"OCTOAI_API_TOKEN\"]"
   ]
  },
  {
   "cell_type": "code",
   "execution_count": 175,
   "metadata": {},
   "outputs": [
    {
     "name": "stdout",
     "output_type": "stream",
     "text": [
      "[Document(page_content='(855) 776-7763 Get a Demo Login Get Started Free  \\nTraining Maker  \\nSurvey Maker  \\nWebinarNinja  \\nProProfs.com  \\nLive Chat  \\nHelp Desk  \\nAll Products  \\nKnowledge Base  \\nGet Started Free  \\nCreate Knowledge Base Features Pricing Solutions Resources Help Get Started Free Log in Get Started Free  \\nFeatures  \\nWorkflows Context Sensitive Help Software In App Help Widget Multi Branding Version Control Integrations View All Features  \\nSolutions Solutions Internal Knowledge Base User Manual Online Documentation Help Center Wiki Software Faq Software View All Solutions  \\nTechnical Documentation IT Documentation Software Documentation Process Documentation Training Documentation  \\nCustomers View Case Studies  \\nLearn why millions choose ProProfs in their own words  \\nResources  \\nKnowledgebase Maker Blog  \\nBlog  \\nKnowledge management and customer service insights by industry experts.  \\nGetting Started  \\nFind helpful articles on how to create detailed knowledge base articles and sites.  \\nVideo Tutorials  \\nWatch how ProProfs Knowledge Base works and what it can do for you.  \\nTop Resources  \\nWhat is Knowledge Base Create a User Manual How To Create Knowledge Base  \\nHow To Create Internal KB Project Documentation Guide Create SaaS Product Documentation  \\nHome\\xa0\\xa0›\\xa0\\xa0 Blog \\xa0\\xa0›\\xa0\\xa0How to Create a User Manual: A Detailed Guide  \\nFREE. All Features. FOREVER! Yes, show meGet a Demo  \\nTry our Forever FREE account with all premium features!  \\nIn This Article  \\nWhat is a User Manual?\\xa0How to Write a Customer-Centric User ManualWhat Are the Essential Elements of Great User Manuals?What Are the Different Types of User Manuals?Benefits to Expect From Customer-Centric User ManualsInsightful User Manuals ExamplesUse ProProfs to Create Comprehensive, Customer-Centric User Manuals  \\nHow to Create a User Manual: A Detailed Guide  \\nMay 20, 2024'), Document(page_content='Written by Knowledge Management Specialist  \\nBrayn Wills,  \\n×  \\nBrayn Wills |  \\nKnowledge Management Specialist  \\nBrayn is a knowledge management specialist with over 10 years of industry experience. A thought leader in the field, Brayn writes about the utility of knowledge base software for business growth, customer support, user management, and more.  \\nLearn about Our Editorial Process  \\nCategory: User Manual  \\nUpdated: 20 May, 2024', metadata={'Header 1': 'How to Create a User Manual: A Detailed Guide'}), Document(page_content='What is a User Manual?\\xa0 How to Write a Customer-Centric User Manual Understand Your Audience Decide on the Manual Content Set Up a Robust Structure Create a Solid Team for Manual Excellence Enhance Your Manual’s Impact With Interactive Visuals Proofread to Ensure Accuracy Throughout Quantify Success: Measure KPIs for Optimal Manual Performance What Are the Essential Elements of Great User Manuals? Clear and Concise Language Structured Organization Step-by-Step Instructions Visual Aids Contextual Explanations Troubleshooting and FAQs User-Focused Approach Regular Updates What Are the Different Types of User Manuals? Instruction Manual Training Manual Service Manual Operations Manual Policy and Procedure Manual Benefits to Expect From Customer-Centric User Manuals Improved User Understanding Enhanced User Engagement Reduced Support Queries Efficient Self-Help Resource Increased Product Adoption Customer Satisfaction and Loyalty Insightful User Manuals Examples Manage Engine CDS Convert Slack Airtable Use ProProfs to Create Comprehensive, Customer-Centric User Manuals  \\nComplex jargon and unnecessary information can turn the excitement for a new product into disappointment.\\xa0  \\nNot if the user manuals were designed with the customer in mind?  \\nWhat if they were created to guide, empower, and simplify the user experience? Enter customer-centric user manuals to save the day and make life easier for customers like you.  \\nIn this blog, we will learn how to create a user manual with ease, talk about its benefits, and explore some examples.'), Document(page_content='A user manual provides instructions and information on effectively using a product or service. It serves as a reference guide for customers, helping them understand a product’s functionalities, features, and potential applications.  \\nThe primary objective of a user manual is to educate consumers about the product’s functionality and guide them in using the product to its full potential.\\xa0  \\nIt provides clear and comprehensive instructions, illustrations, and troubleshooting tips to assist users in navigating through the product’s features and addressing common issues.', metadata={'Header 2': 'What is a User Manual?\\xa0'}), Document(page_content='User manuals increase customer satisfaction by helping them quickly understand and utilize a product. They are more likely to positively perceive the brand, leading to improved loyalty and retention.  \\nLet’s discuss how to create a customer-centric user manual.', metadata={'Header 2': 'How to Write a Customer-Centric User Manual'}), Document(page_content='The initial step in creating an effective user manual is identifying your audience. Recognize that this document is explicitly tailored for customers; gaining clarity is crucial for a smooth development process.  \\nTo plan your process effectively, develop a clear understanding of your end users. Identify your customers’ demographics, preferences, purchasing behavior, and historical interactions.\\xa0  \\nYour support and sales teams are valuable sources of information, as they regularly engage with potential and existing customers, providing insights into your audience. Besides basic information, they can share details about common customer challenges, favored features, and pain points.', metadata={'Header 2': 'How to Write a Customer-Centric User Manual', 'Header 3': 'Understand Your Audience'}), Document(page_content='Understanding the primary purpose of a user manual is vital for it to serve as a self-help resource, enabling customers to comprehend your product and troubleshoot issues as they arise.\\xa0  \\nAvoid making assumptions about what customers know; approach the manual as if users are starting from scratch. Discuss with your product team for insights into critical, simple, and advanced topics that should be included.\\xa0  \\nAlso, seek input from the support team to identify customer pain points, frequently asked questions and recent tickets raised by users. This collaborative effort will enhance your understanding of the content customers require.', metadata={'Header 2': 'How to Write a Customer-Centric User Manual', 'Header 3': 'Decide on the Manual Content'}), Document(page_content='Once you’ve decided on your manual’s content, construct a strong structure to organize the information seamlessly. Just as a building requires a solid foundation, your manual needs a carefully designed structure to avoid falling apart.  \\nCreate clear and engaging headings for the core topics, and identify the content to be included under each header. Create relevant subsections to enhance organization. Include a home page to give customers an overview of the manual’s contents, enabling quick navigation.  \\nConsider the structure of your articles, like the length of paragraphs, the use of bullet points, and how the articles should conclude. Approach the system from various angles to ensure a hassle-free and comprehensive customer experience.', metadata={'Header 2': 'How to Write a Customer-Centric User Manual', 'Header 3': 'Set Up a Robust Structure'}), Document(page_content='Creating a customer-centric online manual is no solitary endeavor; it demands the support of critical knowledge-holders. Curate a dedicated team of subject matter experts who possess an in-depth understanding of the product and the requisite skills to produce impactful content.\\xa0  \\nWith a comprehensive team of experts, you can expedite the process while ensuring the infusion of reliable, research-backed content into your user guide.  \\nNow, with a team in place, the challenge lies in facilitating collaborative efforts without confusion. Robust tools like ProProfs Knowledge Base enable a robust user management system, allowing you to assign relevant roles and permissions to team members based on their skills and experience.\\xa0  \\nFor example, administrators, contributors, and editors can be assigned specific roles, leaving no room for ambiguity. This structured approach fosters improved collaboration and heightened productivity.', metadata={'Header 2': 'How to Write a Customer-Centric User Manual', 'Header 3': 'Create a Solid Team for Manual Excellence'}), Document(page_content='Interactive visuals can turn an ordinary online user manual into an engaging problem-solving platform that resonates with customers. Visual elements can captivate and simplify complex information, creating a user-friendly experience.  \\nIncluding visuals strategically at various points in your manual enhances its effectiveness. For example, incorporate screenshots to provide a visual representation when elucidating a product feature.\\xa0  \\nUse images at each step for a hands-on demonstration when walking through a process. Bite-sized videos are invaluable for directing customers offering quick insights into specific features and outcomes.  \\nAlso, how-to videos can be integrated to provide detailed explanations of processes, enabling customers to maximize the utility of your product. By utilizing the potential of visuals, your manual becomes informative, interactive, and visually rich.', metadata={'Header 2': 'How to Write a Customer-Centric User Manual', 'Header 3': 'Enhance Your Manual’s Impact With Interactive Visuals'}), Document(page_content='Publishing a manual without meticulous proofreading can jeopardize your company’s credibility and hard-earned image. Customers inherently expect your information to be flawless, and any oversight can doubt your reliability.  \\nA seemingly simple yet potent solution is the practice of rigorous proofreading. Each article must undergo a stringent review process where multiple editors collaborate to identify and rectify errors before the manual is slated for publication.\\xa0  \\nLeading user guide software platforms provide this functionality, enabling you to establish workflow statuses, ensuring transparency regarding the stage of each article. Editors can efficiently handle pieces of writing and prepare them for final publication, fortifying the accuracy and credibility of your manual.', metadata={'Header 2': 'How to Write a Customer-Centric User Manual', 'Header 3': 'Proofread to Ensure Accuracy Throughout'}), Document(page_content='Even after the collaborative efforts of writing, editing, and reviewing content, much work remains ahead. The essential questions to answer include:\\xa0  \\nIs your manual beneficial for customers?\\xa0 Can they swiftly resolve issues?\\xa0 Do the articles align with customer expectations?\\xa0 Does your manual encompass the latest product developments?  \\nThese queries underscore the importance of closely monitoring your manual’s performance periodically. Key Performance Indicators (KPIs) like article upvotes, downvotes, and failed searches serve as illuminating metrics, revealing what aspects are working effectively and what requires improvement in your online user manual.  \\nHarnessing these insights facilitates an ongoing improvement, ensuring your manual remains dynamic, responsive to customer needs, and reflects the latest product enhancements. By continuously gauging its performance, you enhance its efficacy and maintain relevance in the ever-evolving landscape of customer requirements.  \\nRead More: How to Create an Impressive User Manual for Your Customers', metadata={'Header 2': 'How to Write a Customer-Centric User Manual', 'Header 3': 'Quantify Success: Measure KPIs for Optimal Manual Performance'}), Document(page_content='A customer-centric user manual is essential for providing a positive user experience and ensuring customers can effectively use a product or service.\\xa0  \\nTo create such a manual, there are several critical elements to consider. Let’s explore each part in detail:', metadata={'Header 2': 'What Are the Essential Elements of Great User Manuals?'}), Document(page_content='What good are words if readers can’t understand them? Using clear and concise language is essential to ensure that the manual is easily understandable for users.\\xa0  \\nAvoid using technical jargon or complex terminology that might confuse or overwhelm the reader. Instead, use simple language to convey instructions and information effectively.', metadata={'Header 2': 'What Are the Essential Elements of Great User Manuals?', 'Header 3': 'Clear and Concise Language'}), Document(page_content='A well-organized manual is essential for users to find the information they need quickly and easily.\\xa0  \\nUse headings, subheadings, and a logical flow of content to create a structured organization. This allows users to intuitively navigate the manual and locate the relevant sections and topics effortlessly.', metadata={'Header 2': 'What Are the Essential Elements of Great User Manuals?', 'Header 3': 'Structured Organization'}), Document(page_content='Providing step-by-step instructions is vital for guiding users through various tasks and processes.\\xa0  \\nBreak down complex procedures into easy steps, ensuring users understand each stage.\\xa0  \\nUse bullet points or numbered lists to highlight the sequence of actions and make the instructions more digestible.', metadata={'Header 2': 'What Are the Essential Elements of Great User Manuals?', 'Header 3': 'Step-by-Step Instructions'}), Document(page_content='Visual aids like diagrams, illustrations, screenshots, and videos can significantly enhance the user manual’s effectiveness.\\xa0  \\nThese visuals provide visual cues and help users better understand the product’s features, user interface, and workflows.\\xa0  \\nInclude relevant visuals throughout the manual to reinforce the written instructions and explanations.', metadata={'Header 2': 'What Are the Essential Elements of Great User Manuals?', 'Header 3': 'Visual Aids'}), Document(page_content='To support users in understanding what to do and why they are doing it, provide contextual explanations.\\xa0  \\nExplain the purpose and benefits of different actions or features to help users grasp the underlying concepts and make informed decisions when using the product.', metadata={'Header 2': 'What Are the Essential Elements of Great User Manuals?', 'Header 3': 'Contextual Explanations'}), Document(page_content='Include a dedicated section addressing common issues, challenges, and frequently asked questions.\\xa0  \\nThis helps users find solutions to their problems quickly, saving time and frustration. Offer clear troubleshooting steps, workarounds, and tips to guide users through potential difficulties they may encounter.', metadata={'Header 2': 'What Are the Essential Elements of Great User Manuals?', 'Header 3': 'Troubleshooting and FAQs'}), Document(page_content='Always keep the needs and expectations of the users in mind when creating the manual. Consider their prior knowledge, skill levels, and potential pain points.\\xa0  \\nAddress their concerns and ensure the manual aligns with their requirements, helping them achieve their goals effectively.', metadata={'Header 2': 'What Are the Essential Elements of Great User Manuals?', 'Header 3': 'User-Focused Approach'}), Document(page_content='A customer-centric user manual is a dynamic document that should be regularly updated to reflect changes in the product or service.\\xa0  \\nEnsure to review and update the manual whenever updates, improvements, or new features are introduced to keep users well-informed and up to date.  \\nRead More: 11 Best Online User Manual Software & Tools for 2024', metadata={'Header 2': 'What Are the Essential Elements of Great User Manuals?', 'Header 3': 'Regular Updates'}), Document(page_content='There are different types of user manuals to cater to different businesses with different types of products. You can go ahead with the one that best fits your business requirements.\\xa0  \\nLet’s discuss the important ones.', metadata={'Header 2': 'What Are the Different Types of User Manuals?'}), Document(page_content='An instruction manual provides detailed guidance on how to assemble, use, or operate a product. It usually includes step-by-step instructions, diagrams, and safety precautions.\\xa0  \\nFor example, a user manual for a digital camera would provide instructions on how to turn the camera on/off, adjust settings, and capture photos.  \\nRead More: How to Create an Awesome Instruction Manual for Your Customers', metadata={'Header 2': 'What Are the Different Types of User Manuals?', 'Header 3': 'Instruction Manual'}), Document(page_content='A training manual educates users on how to use a product or service proficiently. It goes beyond basic instructions and explores various features, functionalities, and workflows.\\xa0  \\nEmployees can also use a training manual to improve their skills and stay up to date with the latest company developments.  \\nFor example, a software training manual would provide comprehensive training on using different modules or functions of the software. It may include exercises or practice scenarios for users to learn from.  \\nRead More: How to Create a Training Manual: Steps & Best Practices', metadata={'Header 2': 'What Are the Different Types of User Manuals?', 'Header 3': 'Training Manual'}), Document(page_content='A service manual is mainly intended for technicians or personnel who perform repairs, maintenance, or troubleshooting on a product or equipment.\\xa0  \\nIt contains in-depth information on technical specifications, diagnosis procedures, and repair instructions.\\xa0  \\nFor example, a service manual for a car would provide detailed instructions for addressing specific mechanical issues.', metadata={'Header 2': 'What Are the Different Types of User Manuals?', 'Header 3': 'Service Manual'}), Document(page_content='An operations manual explains how to effectively and safely operate a complex system or equipment.\\xa0  \\nIt provides information on the system’s controls, settings, and proper usage.\\xa0  \\nFor example, an operations manual for an industrial machine would detail the operational procedures, safety precautions, and maintenance requirements.  \\nRead More: A Guide to Operations Manual – What Is It & How to Create It', metadata={'Header 2': 'What Are the Different Types of User Manuals?', 'Header 3': 'Operations Manual'}), Document(page_content='A policy and procedure manual outlines the rules, regulations, and guidelines governing a specific organization or process.\\xa0  \\nIt provides employees or users with clear instructions on adhering to organizational policies and correctly executing procedures.\\xa0  \\nFor example, an employee handbook would outline policies on topics such as leave, code of conduct, and professional standards.  \\nRead More: How to Create Policy & Procedure Manuals', metadata={'Header 2': 'What Are the Different Types of User Manuals?', 'Header 3': 'Policy and Procedure Manual'}), Document(page_content='A customer-centric user manual helps enhance the user experience and increase customer satisfaction.\\xa0  \\nLet’s discuss the key benefits one by one.\\xa0', metadata={'Header 2': 'Benefits to Expect From Customer-Centric User Manuals'}), Document(page_content='A customer-centric user manual helps users better understand the product or service they are using.\\xa0  \\nBy providing clear and concise instructions, explanations, and visuals, users can understand how the product works and how to utilize its features effectively.\\xa0  \\nThis understanding reduces ambiguity and confusion, helping users to maximize the product’s capabilities.', metadata={'Header 2': 'Benefits to Expect From Customer-Centric User Manuals', 'Header 3': 'Improved User Understanding'}), Document(page_content='When a user manual is customer-centric, it focuses on addressing the needs and concerns of users.\\xa0  \\nProviding relevant and valuable content, engaging visuals, and user-friendly language makes the manual more attractive and exciting for users to read and follow.\\xa0  \\nThis increased engagement encourages users to explore more of the manual, enabling a deeper understanding of the product and its functionalities.', metadata={'Header 2': 'Benefits to Expect From Customer-Centric User Manuals', 'Header 3': 'Enhanced User Engagement'}), Document(page_content='A well-written and comprehensive user manual can significantly reduce the number of support queries or tickets users raise.\\xa0  \\nEnd users can find solutions to their issues or questions without contacting customer support by providing answers to common questions, troubleshooting guidance, and clear instructions.\\xa0  \\nThis leads to less strain on support teams and faster resolution times for critical support cases.', metadata={'Header 2': 'Benefits to Expect From Customer-Centric User Manuals', 'Header 3': 'Reduced Support Queries'}), Document(page_content='A customer-centric user manual serves as an efficient self-help resource for users.\\xa0  \\nInstead of relying solely on external support channels, users can refer to the manual for answers, guidance, and troubleshooting steps.\\xa0  \\nThis enables them to take ownership of their experience and resolve their issues independently, resulting in increased satisfaction and reduced dependency on external support.', metadata={'Header 2': 'Benefits to Expect From Customer-Centric User Manuals', 'Header 3': 'Efficient Self-Help Resource'}), Document(page_content='A user manual designed with the customer in mind encourages users to explore and utilize more product features.\\xa0  \\nBy providing clear instructions on all aspects of the product, like advanced functionalities, users are more likely to discover and adopt these features, unlocking the product’s full potential.\\xa0  \\nIncreased product adoption leads to a better return on investment for customers and enhances the overall user experience.', metadata={'Header 2': 'Benefits to Expect From Customer-Centric User Manuals', 'Header 3': 'Increased Product Adoption'}), Document(page_content='When users have access to a comprehensive and user-friendly manual that addresses their needs and enables them to use a product effectively, it results in higher customer satisfaction.\\xa0  \\nA satisfied customer is more likely to become loyal, leading to repeat purchases and positive word-of-mouth recommendations.\\xa0  \\nA customer-centric manual builds a strong customer relationship and enhances their overall experience with the product or service.  \\nHow to Choose the Best User Manual Software\\xa0', metadata={'Header 2': 'Benefits to Expect From Customer-Centric User Manuals', 'Header 3': 'Customer Satisfaction and Loyalty'}), Document(page_content='A customer-centric user manual enhances user experience by providing clear, concise guidance tailored to the customer’s perspective. Let’s explore some well-implemented examples of such user manuals.\\xa0', metadata={'Header 2': 'Insightful User Manuals Examples'}), Document(page_content='Manage Engine Help Center has a search bar on the top left to find the document you are looking for quickly. It contains toggle links for various topics.\\xa0  \\nIts user manual for the topic ‘How Does End User Experience Monitoring (EUM) Work’ uses simple language and relevant links. The manual also contains insightful visuals and illustrations to help the readers understand better.\\xa0', metadata={'Header 2': 'Insightful User Manuals Examples', 'Header 3': 'Manage Engine'}), Document(page_content='CDS Export is focused on delivering clear and comprehensive instructions for conducting data conversions to PDF and exporting JPG files.\\xa0  \\nIt emphasizes the importance of choosing the “Single page JPGs with Opticon” option for creating specific folder structures containing the necessary files.\\xa0  \\nCDS also highlights the benefits of exporting data as EML files, allowing for platform-specific attachments, text indexing, OCR capabilities, and customizable settings.\\xa0', metadata={'Header 2': 'Insightful User Manuals Examples', 'Header 3': 'CDS Convert'}), Document(page_content='Slack’s writing approach and strategy in its quick start guide are user-friendly and straightforward. It uses simple language and focuses on providing step-by-step instructions to help users understand how to use Slack effectively.\\xa0  \\nThe guide explains key features such as channels, direct messages, notifications, and formatting. It also offers tips, shortcuts, and links to further resources, ensuring a seamless onboarding experience for users.', metadata={'Header 2': 'Insightful User Manuals Examples', 'Header 3': 'Slack'}), Document(page_content='Airtable provides an excellent example of a digital user guide with a clickable and accessible table of contents, ensuring easy navigation for users.  \\nIncluding a table of contents in your user guide can significantly benefit your users by allowing them to find the information they need quickly.\\xa0  \\nOrganizing your guide into logical sections can enhance the user experience and improve navigation. This is particularly crucial if your users use a physical copy of the guide.\\xa0', metadata={'Header 2': 'Insightful User Manuals Examples', 'Header 3': 'Airtable'}), Document(page_content='ProProfs Knowledge Base is the ultimate tool for creating comprehensive and customer-centric user manuals. You can easily create and edit your user manual content using an MS Word-like editor with AI capabilities and pre-built prompts.\\xa0  \\nYou can choose from various pre-designed templates, add videos and images, create tables of contents, and even track revision history to ensure accuracy and accountability for your user manuals.  \\nWith ProProfs, you can customize your user manuals to match your brand identity. Personalize the header, links, and fonts to align with your brand aesthetics. Select from a range of ready-to-use page templates, apply custom CSS, and even use your custom domain to create a professional and branded user experience.  \\nManaging users is a breeze with ProProfs – you can effortlessly add and manage users, assign different roles and permissions, and control who can access and edit your user manuals.\\xa0  \\nGet started with creating extensive user-centric user manuals with ease! Start now by exploring the tool here!', metadata={'Header 2': 'Use ProProfs to Create Comprehensive, Customer-Centric User Manuals'}), Document(page_content='FREE. All Features. FOREVER!'), Document(page_content='Try our Forever FREE account with all premium features!  \\nYes, show me Get a Demo', metadata={'Header 2': 'FREE. All Features. FOREVER!'}), Document(page_content='About the author  \\nBrayn Wills  \\nBryan Wills is a seasoned expert in knowledge management with over a decade of experience in the field. His expertise extends across various domains, including Security & Compliance, User Management, Knowledge Management, Software Documentation, and Customer Support. His writings not only reflect his deep understanding of these subjects but also offer practical solutions and strategies to help organizations enhance their knowledge management processes. Bryan’s work has been published in GetFeedback, CustomerThink, and Apruve.  \\nRelated Posts in User Manual  \\nUser Manual How to Write Insightful User Manuals for Software  \\nUser Manual How You Can Improve Your SaaS Product Experience  \\nUser Manual What Is a Manual Creator – Features, Benefits & How to Choose One  \\nUser Manual Best Online User Manual Tools for Software Manuals in 2024  \\nUser Manual Guide to SaaS User Manuals: How to Create, Types & Examples  \\nUser Manual How to Create User Manual for Corporate Administrators  \\nResources  \\nGetting Started Video Tutorials All Resources  \\nPopular Blogs  \\nBest User Manual Tools Create a User Manual Project Documentation guides  \\nKnowledge Base  \\nKnowledge Base Software Create Internal KB Create Knowledge Base Customer Service KB  \\nOnline Documentation  \\nBest Documentation tools Best Software Documentation tools Workflow documentation Create Process Documentation  \\nSolutions  \\nInternal Knowledge Base Online Documentation User Manual Help Center FAQ Software Training Documentation All Solutions  \\nCompare ProProfs  \\nDocument360 Alternative Zendesk Alternative Helpjuice Alternatives Helpscout Alternatives All Comparison  \\nProducts  \\nChat Help Desk Survey Maker Project Management Training Maker All Products  \\nSupport  \\n(855)776-7763 Help Get a Demo  \\nWrite for Us'), Document(page_content='Are you an author with a fresh perspective? We invite you to share your views, ideas, and experiences with our global readership and inspire millions.  \\nContribute A Guest Post', metadata={'Header 3': 'Write for Us'}), Document(page_content='Newsletter'), Document(page_content='Subscribe to our monthly newsletter to get latest updates directly in your inbox.  \\nSubmit', metadata={'Header 3': 'Newsletter'}), Document(page_content='Blog Press About Contact Trust GDPR/CCPA Terms Privacy Accessibility  \\nFollow us on linkedIn Follow us on facebook Follow us on Youtube  \\nSitemap © 2005 - 2024 ProProfs')]\n"
     ]
    }
   ],
   "source": [
    "from langchain_text_splitters import RecursiveCharacterTextSplitter, HTMLHeaderTextSplitter\n",
    "\n",
    "url = \"https://www.proprofskb.com/blog/how-to-create-a-user-manual\"\n",
    "\n",
    "headers_to_split_on = [\n",
    "    (\"h1\", \"Header 1\"),\n",
    "    (\"h2\", \"Header 2\"),\n",
    "    (\"h3\", \"Header 3\"),\n",
    "    (\"h4\", \"Header 4\"),\n",
    "    (\"div\", \"Divider\")\n",
    "]\n",
    "\n",
    "html_splitter = HTMLHeaderTextSplitter(headers_to_split_on=headers_to_split_on)\n",
    "\n",
    "html_header_split = html_splitter.split_text_from_url(url)\n",
    "print(html_header_split)"
   ]
  },
  {
   "cell_type": "code",
   "execution_count": 176,
   "metadata": {},
   "outputs": [],
   "source": [
    "from langchain_text_splitters import RecursiveCharacterTextSplitter, HTMLHeaderTextSplitter\n",
    "\n",
    "url = \"https://www.techsmith.com/blog/user-documentation/\"\n",
    "\n",
    "headers_to_split_on = [\n",
    "    (\"h1\", \"Header 1\"),\n",
    "    (\"h2\", \"Header 2\"),\n",
    "    (\"h3\", \"Header 3\"),\n",
    "    (\"h4\", \"Header 4\"),\n",
    "    (\"div\", \"Divider\")\n",
    "]\n",
    "\n",
    "html_splitter = HTMLHeaderTextSplitter(headers_to_split_on=headers_to_split_on)\n",
    "\n",
    "html_header_split = html_splitter.split_text_from_url(url)\n"
   ]
  },
  {
   "cell_type": "code",
   "execution_count": 177,
   "metadata": {},
   "outputs": [],
   "source": [
    "chunk_size = 1024\n",
    "chunk_overlap = 128\n",
    "text_splitter = RecursiveCharacterTextSplitter(\n",
    "    chunk_size=chunk_size,\n",
    "    chunk_overlap=chunk_overlap,\n",
    ")\n",
    "\n",
    "# Split\n",
    "split = text_splitter.split_documents(html_header_split)\n"
   ]
  },
  {
   "cell_type": "code",
   "execution_count": 178,
   "metadata": {},
   "outputs": [],
   "source": [
    "from langchain.vectorstores import FAISS"
   ]
  },
  {
   "cell_type": "code",
   "execution_count": 179,
   "metadata": {},
   "outputs": [
    {
     "name": "stderr",
     "output_type": "stream",
     "text": [
      "c:\\Users\\ortho\\anaconda3\\lib\\site-packages\\langchain_core\\utils\\utils.py:161: UserWarning: WARNING! model is not default parameter.\n",
      "                model was transferred to model_kwargs.\n",
      "                Please confirm that model is what you intended.\n",
      "  warnings.warn(\n"
     ]
    }
   ],
   "source": [
    "from langchain_community.embeddings import OctoAIEmbeddings\n",
    "from langchain_community.llms.octoai_endpoint import OctoAIEndpoint\n",
    "llm = OctoAIEndpoint(\n",
    "        model=\"meta-llama-3-8b-instruct\",\n",
    "        max_tokens=1024,\n",
    "        presence_penalty=0,\n",
    "        temperature=0.1,\n",
    "        top_p=0.9,\n",
    "        \n",
    "    )\n",
    "embeddings = OctoAIEmbeddings(endpoint_url=\"https://text.octoai.run/v1/\")"
   ]
  },
  {
   "cell_type": "code",
   "execution_count": 180,
   "metadata": {},
   "outputs": [],
   "source": [
    "vector_store = FAISS.from_documents(\n",
    "    split,\n",
    "    embedding=embeddings\n",
    ")"
   ]
  },
  {
   "cell_type": "code",
   "execution_count": 181,
   "metadata": {},
   "outputs": [],
   "source": [
    "retriever = vector_store.as_retriever()"
   ]
  },
  {
   "cell_type": "code",
   "execution_count": 182,
   "metadata": {},
   "outputs": [],
   "source": [
    "from langchain.prompts import ChatPromptTemplate\n",
    "template=\"\"\"You are an assistant for helping to write good user guides. Use the following step by step actions to write a helpful user guide.\n",
    "Question: {question}\n",
    "Answer:\"\"\"\n",
    "prompt = ChatPromptTemplate.from_template(template)"
   ]
  },
  {
   "cell_type": "code",
   "execution_count": 183,
   "metadata": {},
   "outputs": [],
   "source": [
    "from langchain_core.runnables import RunnablePassthrough\n",
    "from langchain_core.output_parsers import StrOutputParser\n",
    "chain = (\n",
    "    {\"question\": RunnablePassthrough()}\n",
    "    | prompt\n",
    "    | llm\n",
    "    | StrOutputParser()\n",
    ")"
   ]
  },
  {
   "cell_type": "code",
   "execution_count": 184,
   "metadata": {},
   "outputs": [],
   "source": [
    "instructions = 'Certainly! Below are detailed instructions for creating a user guide.### Frame 1: Home Page1. **Navigate to the website:**    - Open your web browser and go to `octo.ai`.2. **Locate the Sign Up button:**   - On the top right corner of the homepage, find the “Sign Up” button.   - The button is highlighted by the mouse cursor hovering over it.3. **Click the Sign Up button:**   - Click on the “Sign Up” button to begin the registration process.### Frame 2: Redirect to Sign-Up Page1. **Wait for redirection:**   - The page will redirect to the account sign-up form.   - You may notice a \"Loading Login Page...\" message during this transition. ### Frame 3: Account Sign-Up Page1. **Access the Sign-Up Form:**   - Once redirected, you will see the account'\n"
   ]
  },
  {
   "cell_type": "code",
   "execution_count": 185,
   "metadata": {},
   "outputs": [
    {
     "name": "stdout",
     "output_type": "stream",
     "text": [
      " Here is a user guide based on the provided steps:\n",
      "\n",
      "**Creating an Account on Octo.ai**\n",
      "\n",
      "**Step 1: Navigate to the Website**\n",
      "\n",
      "1. Open your web browser and go to [octo.ai](http://octo.ai).\n",
      "2. Ensure that you are on the correct website by checking the URL in the address bar.\n",
      "\n",
      "**Step 2: Locate the Sign Up Button**\n",
      "\n",
      "1. On the top right corner of the homepage, find the “Sign Up” button.\n",
      "2. The button is highlighted by the mouse cursor hovering over it. This indicates that the button is clickable.\n",
      "\n",
      "**Step 3: Click the Sign Up Button**\n",
      "\n",
      "1. Click on the “Sign Up” button to begin the registration process.\n",
      "2. You will be redirected to the account sign-up form.\n",
      "\n",
      "**Step 4: Wait for Redirection**\n",
      "\n",
      "1. The page will redirect to the account sign-up form.\n",
      "2. You may notice a \"Loading Login Page...\" message during this transition. This is normal and indicates that the system is processing your request.\n",
      "\n",
      "**Step 5: Access the Sign-Up Form**\n",
      "\n",
      "1. Once redirected, you will see the account sign-up form.\n",
      "2. Fill out the required information, including your email address, password, and other details.\n",
      "\n",
      "By following these steps, you should be able to successfully create an account on Octo.ai. If you encounter any issues or have questions, please refer to the Octo.ai support resources or contact their customer support team.\n"
     ]
    }
   ],
   "source": [
    "run1 = chain.invoke(\"Write a user guide based upon the following statement\" + instructions)\n",
    "print(run1)"
   ]
  },
  {
   "cell_type": "code",
   "execution_count": 186,
   "metadata": {},
   "outputs": [
    {
     "name": "stdout",
     "output_type": "stream",
     "text": [
      " Here is a more refined version of the user guide:\n",
      "\n",
      "**Creating an Account on Octo.ai: A Step-by-Step Guide**\n",
      "\n",
      "**Step 1: Access the Octo.ai Website**\n",
      "\n",
      "To begin the account creation process, open your web browser and navigate to [octo.ai](http://octo.ai). Ensure that you are on the correct website by verifying the URL in the address bar.\n",
      "\n",
      "**Step 2: Locate the Sign Up Button**\n",
      "\n",
      "On the Octo.ai homepage, find the \"Sign Up\" button located in the top right corner. The button is highlighted by a mouse cursor hovering over it, indicating that it is clickable.\n",
      "\n",
      "**Step 3: Initiate the Registration Process**\n",
      "\n",
      "Click the \"Sign Up\" button to begin the registration process. You will be redirected to the account sign-up form.\n",
      "\n",
      "**Step 4: Wait for the Redirection**\n",
      "\n",
      "During the transition, you may notice a \"Loading Login Page...\" message. This is a normal part of the process and indicates that the system is processing your request.\n",
      "\n",
      "**Step 5: Complete the Sign-Up Form**\n",
      "\n",
      "Once redirected, you will see the account sign-up form. Fill out the required information, including your email address, password, and other details. Ensure that you provide accurate and complete information to ensure a smooth registration process.\n",
      "\n",
      "**Conclusion**\n",
      "\n",
      "By following these steps, you should be able to successfully create an account on Octo.ai. If you encounter any issues or have questions, please refer to the Octo.ai support resources or contact their customer support team for assistance. Remember to carefully review the sign-up form and provide accurate information to ensure a smooth registration process.\n"
     ]
    },
    {
     "data": {
      "text/plain": [
       "'\"\\nfrom google_images_download import google_images_download\\n\\n# Instantiate the class\\nresponse = google_images_download.googleimagesdownload()\\n\\n# Configure your search parameters\\nsearch_query = \"puppies\"\\nnum_images = 5  # Number of images you want to download\\n\\n# Download the images\\narguments = {\"keywords\": search_query, \"limit\": num_images}\\npaths = response.download(arguments)\\n\\n# Check the downloaded paths\\nprint(paths)\\n'"
      ]
     },
     "execution_count": 186,
     "metadata": {},
     "output_type": "execute_result"
    }
   ],
   "source": [
    "run2 = chain.invoke(\"Use the following statement, Make a more refined version\" + run1)\n",
    "print(run2)\n",
    "\"\"\"\"\n",
    "from google_images_download import google_images_download\n",
    "\n",
    "# Instantiate the class\n",
    "response = google_images_download.googleimagesdownload()\n",
    "\n",
    "# Configure your search parameters\n",
    "search_query = \"puppies\"\n",
    "num_images = 5  # Number of images you want to download\n",
    "\n",
    "# Download the images\n",
    "arguments = {\"keywords\": search_query, \"limit\": num_images}\n",
    "paths = response.download(arguments)\n",
    "\n",
    "# Check the downloaded paths\n",
    "print(paths)\n",
    "\"\"\""
   ]
  }
 ],
 "metadata": {
  "kernelspec": {
   "display_name": "base",
   "language": "python",
   "name": "python3"
  },
  "language_info": {
   "codemirror_mode": {
    "name": "ipython",
    "version": 3
   },
   "file_extension": ".py",
   "mimetype": "text/x-python",
   "name": "python",
   "nbconvert_exporter": "python",
   "pygments_lexer": "ipython3",
   "version": "3.9.13"
  }
 },
 "nbformat": 4,
 "nbformat_minor": 2
}
